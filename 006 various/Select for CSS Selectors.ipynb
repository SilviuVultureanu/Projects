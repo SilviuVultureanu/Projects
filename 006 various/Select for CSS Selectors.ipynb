{
 "cells": [
  {
   "cell_type": "code",
   "execution_count": 16,
   "metadata": {
    "scrolled": true
   },
   "outputs": [
    {
     "name": "stdout",
     "output_type": "stream",
     "text": [
      "<p class=\"name\">Aesop</p>\n",
      "<p class=\"name\">Caesar</p>\n",
      "<p class=\"name\">Sulla</p>\n",
      "<p class=\"name\">Spyro</p>\n",
      "<p class=\"name\">Zelda</p>\n",
      "<p class=\"name\">Bandicoot</p>\n",
      "<p class=\"name\">Hal</p>\n",
      "<p class=\"name\">Mock</p>\n",
      "<p class=\"name\">Sparrow</p>\n"
     ]
    }
   ],
   "source": [
    "import requests\n",
    "from bs4 import BeautifulSoup\n",
    "\n",
    "prefix = \"https://content.codecademy.com/courses/beautifulsoup/\"\n",
    "webpage_response = requests.get('https://content.codecademy.com/courses/beautifulsoup/shellter.html')\n",
    "\n",
    "webpage = webpage_response.content\n",
    "soup = BeautifulSoup(webpage, \"html.parser\")\n",
    "\n",
    "turtle_links = soup.find_all(\"a\")\n",
    "links = []\n",
    "\n",
    "#go through all of the a tags and get the links associated with them:\n",
    "for a in turtle_links:\n",
    "  #print(a)\n",
    "  #print(a[\"href\"])\n",
    "  links.append(prefix+a[\"href\"])\n",
    "    \n",
    "#Define turtle_data:\n",
    "turtle_data = {}\n",
    "#print(links)\n",
    "#print('\\n')\n",
    "\n",
    "#follow each link:\n",
    "for link in links:\n",
    "  webpage = requests.get(link)\n",
    "  turtle = BeautifulSoup(webpage.content, \"html.parser\")\n",
    "  #Add your code here:\n",
    "  turtle_name = turtle.select(\".name\")[0]\n",
    "  print(turtle_name)\n",
    "  turtle_data[turtle_name.get_text()] = turtle.find(\"ul\").get_text(\"|\").split('|')\n",
    "  \n",
    "#print(turtle_data)"
   ]
  },
  {
   "cell_type": "code",
   "execution_count": null,
   "metadata": {},
   "outputs": [],
   "source": []
  }
 ],
 "metadata": {
  "kernelspec": {
   "display_name": "Python 3",
   "language": "python",
   "name": "python3"
  },
  "language_info": {
   "codemirror_mode": {
    "name": "ipython",
    "version": 3
   },
   "file_extension": ".py",
   "mimetype": "text/x-python",
   "name": "python",
   "nbconvert_exporter": "python",
   "pygments_lexer": "ipython3",
   "version": "3.8.3"
  }
 },
 "nbformat": 4,
 "nbformat_minor": 4
}
