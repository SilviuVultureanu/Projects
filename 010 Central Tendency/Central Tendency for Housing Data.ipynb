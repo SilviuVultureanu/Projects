{
 "cells": [
  {
   "cell_type": "markdown",
   "metadata": {},
   "source": [
    "SUMMARIZING QUANTITATIVE DATA\n",
    "Central Tendency for Housing Data\n",
    "In this project, you will find the mean, median, and mode cost of one-bedroom apartments in three of the five New York City boroughs: Brooklyn, Manhattan, and Queens.\n",
    "\n",
    "Using your findings, you will make conclusions about the cost of living in each of the boroughs. We will also discuss an important assumption that we make when we point out differences between the boroughs.\n",
    "\n",
    "We worked with Streeteasy.com to collect this data. While we will only focus on the cost of one-bedroom apartments, the dataset includes a lot more information if you’re interested in asking your own questions about the Brooklyn, Manhattan, and Queens housing market.\n",
    "\n",
    "Observing your Data\n",
    "1.\n",
    "We’ve imported data about one-bedroom apartments in three of New York City’s boroughs: Brooklyn, Manhattan, and Queens. We saved the values to:\n",
    "\n",
    "brooklyn_one_bed\n",
    "manhattan_one_bed\n",
    "queens_one_bed\n",
    "In this project, we only care about the price of apartments, so we saved the price of apartments in each borough to:\n",
    "brooklyn_price\n",
    "manhattan_price\n",
    "queens_price\n",
    "\n",
    "If you want to see what these arrays look like, you can use print statements to see them in the output terminal.\n",
    "\n",
    "Find the Mean\n",
    "2.\n",
    "Before starting the next few steps, delete any print() statements you’ve added.\n",
    "\n",
    "Find the average value of one-bedroom apartments in Brooklyn and save the value to brooklyn_mean.\n",
    "\n",
    "3.\n",
    "Find the average value of one-bedroom apartments in Manhattan and save the value to manhattan_mean.\n",
    "\n",
    "4.\n",
    "Find the average value of one-bedroom apartments in Queens and save the value to queens_mean.\n",
    "\n",
    "Find the Median\n",
    "5.\n",
    "Find the median value of one-bedroom apartments in Brooklyn and save the value to brooklyn_median.\n",
    "\n",
    "6.\n",
    "Find the median value of one-bedroom apartments in Manhattan and save the value to manhattan_median.\n",
    "\n",
    "7.\n",
    "Find the median value of one-bedroom apartments in Queens and save the value to queens_median.\n",
    "\n",
    "Find the Mode\n",
    "8.\n",
    "Find the mode value of one-bedroom apartments in Brooklyn and save the value to brooklyn_mode.\n",
    "\n",
    "9.\n",
    "Find the mode value of one-bedroom apartments in Manhattan and save the value to manhattan_mode.\n",
    "\n",
    "\n",
    "10.\n",
    "Find the mode value of one-bedroom apartments in Queens and save the value to queens_mode.\n",
    "\n",
    "\n",
    "What does our data tell us?\n",
    "11.\n",
    "Now what?\n",
    "\n",
    "We don’t find the mean, median, and mode of a dataset for the sake of it.\n",
    "\n",
    "The point is to make inferences from our data. What can you say about the housing prices in Brooklyn, Queens, and Manhattan? Besides, “It’s really expensive to live in any of them.”\n",
    "\n",
    "Take a minute to think through it. We added our thoughts to the hint.\n",
    "\n",
    "12.\n",
    "Did you make any assumptions when you drew inferences in the previous task?\n",
    "\n",
    "If so, what assumptions did you make? We added our thoughts to the hint.\n",
    "\n",
    "13.\n",
    "Finally, think about what the histogram for each dataset will look like.\n",
    "\n",
    "If you have the time, take a minute to make a rough sketch of the histograms for the cost of a one-bedroom apartment in Brooklyn, Manhattan, and Queens.\n",
    "\n",
    "You can see someone else’s attempt at a sketch of the Brooklyn histogram.\n",
    "\n",
    "When you’re finished, open the hint to take a look at the actual histograms for Brooklyn, Manhattan, and Queens."
   ]
  },
  {
   "cell_type": "code",
   "execution_count": 11,
   "metadata": {},
   "outputs": [
    {
     "name": "stdout",
     "output_type": "stream",
     "text": [
      "1275\n",
      "18000\n",
      "The mean price in Brooklyn is 3327.4\n",
      "The mean price in Manhattan is 3993.48\n",
      "The mean price in Queens is 2346.25\n",
      "The median price in Brooklyn is 3000.0\n",
      "The median price in Manhattan is 3800.0\n",
      "The median price in Queens is 2200.0\n",
      "The mode price in Brooklyn is 2500 and it appears 26 times out of 1013\n",
      "The mode price in Manhattan is 3500 and it appears 56 times out of 1476\n",
      "The mode price in Queens is 1750 and it appears 11 times out of 232\n"
     ]
    }
   ],
   "source": [
    "# Import packages\n",
    "import numpy as np\n",
    "import pandas as pd\n",
    "from scipy import stats\n",
    "\n",
    "# Read in housing data\n",
    "brooklyn_one_bed = pd.read_csv('brooklyn-one-bed.csv')\n",
    "brooklyn_price = brooklyn_one_bed['rent']\n",
    "\n",
    "manhattan_one_bed = pd.read_csv('manhattan-one-bed.csv')\n",
    "manhattan_price = manhattan_one_bed['rent']\n",
    "\n",
    "queens_one_bed = pd.read_csv('queens-one-bed.csv')\n",
    "queens_price = queens_one_bed['rent']\n",
    "\n",
    "# Add mean calculations below \n",
    "brooklyn_mean = np.mean(brooklyn_price)\n",
    "brooklyn_min = np.min(brooklyn_price)\n",
    "print(brooklyn_min)\n",
    "brooklyn_max = np.max(brooklyn_price)\n",
    "print(brooklyn_max)\n",
    "\n",
    "manhattan_mean = np.mean(manhattan_price)\n",
    "queens_mean = np.mean(queens_price)\n",
    "# Add median calculations below\n",
    "brooklyn_median = np.median(brooklyn_price)\n",
    "manhattan_median = np.median(manhattan_price)\n",
    "queens_median = np.median(queens_price)\n",
    "# Add mode calculations below\n",
    "brooklyn_mode = stats.mode(brooklyn_price)\n",
    "manhattan_mode = stats.mode(manhattan_price)\n",
    "queens_mode = stats.mode(queens_price)\n",
    "\n",
    "##############################################\n",
    "'''It looks like the average cost of one-bedroom apartments in Manhattan is the most, and in Queens is the least. This pattern holds for the median and mode values as well.\n",
    "\n",
    "While the mode is not the most important indicator of centrality, the fact that mean, median, and mode are within a few hundred dollars for each borough indicates the data is centered around:\n",
    "\n",
    "$3,300 for Brooklyn\n",
    "$3,900 for Manhattan\n",
    "$2,300 for Queens'''\n",
    "##############################################\n",
    "\"\"\"We assumed that the data from Streeteasy is representative of housing prices for the entire borough. Given that Streeteasy is only used by a subset of property owners, this is not a fair assumption. A quick search on rentcafe.com will tell you the averages are more like:\n",
    "\n",
    "$2,695 for Brooklyn one-bedroom apartments\n",
    "$4,188 for Manhattan one-bedroom apartments\n",
    "$2,178 for Queens one-bedroom apartments\n",
    "This is an interesting finding. Why may the cost from rentcafe.com be higher in Manhattan than in Brooklyn or Queens?\n",
    "\"\"\"\n",
    "##############################################\n",
    "\n",
    "# Don't look below here\n",
    "# Mean\n",
    "try:\n",
    "    print(\"The mean price in Brooklyn is \" + str(round(brooklyn_mean, 2)))\n",
    "except NameError:\n",
    "    print(\"The mean price in Brooklyn is not yet defined.\")\n",
    "try:\n",
    "    print(\"The mean price in Manhattan is \" + str(round(manhattan_mean, 2)))\n",
    "except NameError:\n",
    "    print(\"The mean in Manhattan is not yet defined.\")\n",
    "try:\n",
    "    print(\"The mean price in Queens is \" + str(round(queens_mean, 2)))\n",
    "except NameError:\n",
    "    print(\"The mean price in Queens is not yet defined.\")\n",
    "    \n",
    "    \n",
    "# Median\n",
    "try:\n",
    "    print(\"The median price in Brooklyn is \" + str(brooklyn_median))\n",
    "except NameError:\n",
    "    print(\"The median price in Brooklyn is not yet defined.\")\n",
    "try:\n",
    "    print(\"The median price in Manhattan is \" + str(manhattan_median))\n",
    "except NameError:\n",
    "    print(\"The median price in Manhattan is not yet defined.\")\n",
    "try:\n",
    "    print(\"The median price in Queens is \" + str(queens_median))\n",
    "except NameError:\n",
    "    print(\"The median price in Queens is not yet defined.\")\n",
    "    \n",
    "    \n",
    "#Mode\n",
    "try:\n",
    "    print(\"The mode price in Brooklyn is \" + str(brooklyn_mode[0][0]) + \" and it appears \" + str(brooklyn_mode[1][0]) + \" times out of \" + str(len(brooklyn_price)))\n",
    "except NameError:\n",
    "    print(\"The mode price in Brooklyn is not yet defined.\")\n",
    "try:\n",
    "    print(\"The mode price in Manhattan is \" + str(manhattan_mode[0][0]) + \" and it appears \" + str(manhattan_mode[1][0]) + \" times out of \" + str(len(manhattan_price)))\n",
    "except NameError:\n",
    "    print(\"The mode price in Manhattan is not yet defined.\")\n",
    "try:\n",
    "    print(\"The mode price in Queens is \" + str(queens_mode[0][0]) + \" and it appears \" + str(queens_mode[1][0]) + \" times out of \" + str(len(queens_price)))\n",
    "except NameError:\n",
    "    print(\"The mode price in Queens is not yet defined.\")\n",
    "\n",
    "\n"
   ]
  },
  {
   "cell_type": "code",
   "execution_count": 13,
   "metadata": {},
   "outputs": [
    {
     "data": {
      "image/png": "[encoded data removed]",
      "text/plain": [
       "<Figure size 432x288 with 1 Axes>"
      ]
     },
     "metadata": {
      "needs_background": "light"
     },
     "output_type": "display_data"
    }
   ],
   "source": [
    "from matplotlib import pyplot as plt\n",
    "\n",
    "plt.hist(brooklyn_price, range=(1000, 19000), bins=100,  edgecolor='black')\n",
    "plt.title(\"Brooklyn 1 Bedroom Price\")\n",
    "plt.xlabel(\"Cost\")\n",
    "plt.ylabel(\"Count\")\n",
    "plt.axvline(brooklyn_mean, color='r', linestyle='solid', linewidth=2, label=\"Mean\")\n",
    "plt.axvline(brooklyn_median, color='y', linestyle='dotted', linewidth=2, label=\"Median\")\n",
    "plt.axvline(brooklyn_mode[0], color='orange', linestyle='dashed', linewidth=2, label=\"Mode\")\n",
    "plt.legend()\n",
    "\n",
    "plt.show()"
   ]
  },
  {
   "cell_type": "code",
   "execution_count": 16,
   "metadata": {
    "scrolled": true
   },
   "outputs": [
    {
     "data": {
      "image/png": "[encoded data removed]",
      "text/plain": [
       "<Figure size 432x288 with 1 Axes>"
      ]
     },
     "metadata": {
      "needs_background": "light"
     },
     "output_type": "display_data"
    }
   ],
   "source": [
    "plt.hist(manhattan_price, range=(1000, 15000), bins=80,  edgecolor='black')\n",
    "plt.title(\"Manhattan 1 Bedroom Price\")\n",
    "plt.xlabel(\"Cost\")\n",
    "plt.ylabel(\"Count\")\n",
    "plt.axvline(manhattan_mean, color='r', linestyle='solid', linewidth=2, label=\"Mean\")\n",
    "plt.axvline(manhattan_median, color='y', linestyle='dotted', linewidth=2, label=\"Median\")\n",
    "plt.axvline(manhattan_mode[0], color='orange', linestyle='dashed', linewidth=2, label=\"Mode\")\n",
    "plt.legend()\n",
    "\n",
    "plt.show()"
   ]
  },
  {
   "cell_type": "code",
   "execution_count": 17,
   "metadata": {},
   "outputs": [
    {
     "name": "stdout",
     "output_type": "stream",
     "text": [
      "Help on function show in module matplotlib.pyplot:\n",
      "\n",
      "show(*args, **kw)\n",
      "    Display all figures.\n",
      "    \n",
      "    When running in ipython with its pylab mode, display all\n",
      "    figures and return to the ipython prompt.\n",
      "    \n",
      "    In non-interactive mode, display all figures and block until\n",
      "    the figures have been closed; in interactive mode it has no\n",
      "    effect unless figures were created prior to a change from\n",
      "    non-interactive to interactive mode (not recommended).  In\n",
      "    that case it displays the figures but does not block.\n",
      "    \n",
      "    Parameters\n",
      "    ----------\n",
      "    block : bool, optional\n",
      "        This is experimental, and may be set to ``True`` or ``False`` to\n",
      "        override the blocking behavior described above.\n",
      "\n"
     ]
    }
   ],
   "source": [
    "help(plt.show)"
   ]
  }
 ],
 "metadata": {
  "kernelspec": {
   "display_name": "Python 3",
   "language": "python",
   "name": "python3"
  },
  "language_info": {
   "codemirror_mode": {
    "name": "ipython",
    "version": 3
   },
   "file_extension": ".py",
   "mimetype": "text/x-python",
   "name": "python",
   "nbconvert_exporter": "python",
   "pygments_lexer": "ipython3",
   "version": "3.8.3"
  }
 },
 "nbformat": 4,
 "nbformat_minor": 4
}
