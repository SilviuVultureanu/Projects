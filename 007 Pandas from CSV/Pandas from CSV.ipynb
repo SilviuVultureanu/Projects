{
 "cells": [
  {
   "cell_type": "markdown",
   "metadata": {},
   "source": [
    "You’ve completed the lesson! You’ve just learned the basics of working with a single table in Pandas, including:\n",
    "\n",
    "Create a table from scratch\n",
    "Loading data from another file\n",
    "Selecting certain rows or columns of a table\n",
    "Let’s practice what you’ve learned.\n",
    "\n",
    "1. In this example, you’ll be the data analyst for ShoeFly.com, a fictional online shoe store. You’ve seen this data; now it’s your turn to work with it!\n",
    "\n",
    "Load the data from shoefly.csv into the variable orders.\n",
    "\n",
    "2. Inspect the first 5 lines of the data.\n",
    "\n",
    "3. Your marketing department wants to send out an email blast to everyone who ordered shoes!\n",
    "\n",
    "Select all of the email addresses from the column email and save them to a variable called emails.\n",
    "\n",
    "4. Frances Palmer claims that her order was wrong. What did Frances Palmer order?\n",
    "\n",
    "Use logic to select that row of orders and save it to the variable frances_palmer.\n",
    "\n",
    "5. We need some customer reviews for our comfortable shoes. Select all orders for shoe_type: clogs, boots, and ballet flats and save them to the variable comfy_shoes."
   ]
  },
  {
   "cell_type": "code",
   "execution_count": 4,
   "metadata": {},
   "outputs": [
    {
     "name": "stdout",
     "output_type": "stream",
     "text": [
      "       id first_name   last_name                         email     shoe_type  \\\n",
      "0   54791    Rebecca     Lindsay  RebeccaLindsay57@hotmail.com         clogs   \n",
      "1   53450      Emily       Joyce        EmilyJoyce25@gmail.com  ballet flats   \n",
      "3   14437     Justin    Erickson   Justin.Erickson@outlook.com         clogs   \n",
      "4   79357     Andrew       Banks              AB4318@gmail.com         boots   \n",
      "6   20487     Thomas      Jensen              TJ5470@gmail.com         clogs   \n",
      "7   76971     Janice       Hicks        Janice.Hicks@gmail.com         clogs   \n",
      "8   21586    Gabriel      Porter     GabrielPorter24@gmail.com         clogs   \n",
      "10  91629    Jessica        Hale       JessicaHale25@gmail.com         clogs   \n",
      "12  45832      Susan      Dennis       SusanDennis58@gmail.com  ballet flats   \n",
      "14  73431    Rebecca     Charles     Rebecca.Charles@gmail.com         boots   \n",
      "16  39888    Vincent  Stephenson            VS4753@outlook.com         boots   \n",
      "17  35961        Roy     Tillman        RoyTillman20@gmail.com         boots   \n",
      "\n",
      "   shoe_material shoe_color  \n",
      "0   faux-leather      black  \n",
      "1   faux-leather       navy  \n",
      "3   faux-leather        red  \n",
      "4        leather      brown  \n",
      "6         fabric       navy  \n",
      "7   faux-leather       navy  \n",
      "8        leather      brown  \n",
      "10       leather        red  \n",
      "12        fabric      white  \n",
      "14  faux-leather      white  \n",
      "16       leather      black  \n",
      "17       leather      white   \n",
      "\n"
     ]
    }
   ],
   "source": [
    "import pandas as pd\n",
    "\n",
    "orders = pd.read_csv('shoefly.csv')\n",
    "#print(orders.head(3), '\\n')\n",
    "\n",
    "emails = orders['email']\n",
    "#print(emails, '\\n')\n",
    "\n",
    "frances_palmer = orders[(orders.first_name == 'Frances') & (orders.last_name == 'Palmer')]\n",
    "#print(frances_palmer, '\\n')\n",
    "\n",
    "comfy_shoes = orders[orders.shoe_type.isin(['clogs', 'boots', 'ballet flats'])]\n",
    "print(comfy_shoes, '\\n')\n",
    "comfy_shoes.to_csv('comfy_shoes.csv')"
   ]
  }
 ],
 "metadata": {
  "kernelspec": {
   "display_name": "Python 3",
   "language": "python",
   "name": "python3"
  },
  "language_info": {
   "codemirror_mode": {
    "name": "ipython",
    "version": 3
   },
   "file_extension": ".py",
   "mimetype": "text/x-python",
   "name": "python",
   "nbconvert_exporter": "python",
   "pygments_lexer": "ipython3",
   "version": "3.8.3"
  }
 },
 "nbformat": 4,
 "nbformat_minor": 4
}
