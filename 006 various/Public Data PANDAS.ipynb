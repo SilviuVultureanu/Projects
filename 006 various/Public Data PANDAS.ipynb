{
 "cells": [
  {
   "cell_type": "code",
   "execution_count": 2,
   "metadata": {},
   "outputs": [
    {
     "name": "stdout",
     "output_type": "stream",
     "text": [
      "     sepal_length   sepal_width   petal_length   petal_width        class\n",
      "Id  SepalLengthCm  SepalWidthCm  PetalLengthCm  PetalWidthCm      Species\n",
      "1             5.1           3.5            1.4           0.2  Iris-setosa\n",
      "2             4.9           3.0            1.4           0.2  Iris-setosa\n",
      "3             4.7           3.2            1.3           0.2  Iris-setosa\n",
      "4             4.6           3.1            1.5           0.2  Iris-setosa\n"
     ]
    }
   ],
   "source": [
    "# Import pandas with alias\n",
    "import pandas as pd\n",
    " \n",
    "# Assign the dataset url as a variable\n",
    "url = \"https://raw.githubusercontent.com/shrikant-temburwar/Iris-Dataset/master/Iris.csv\"\n",
    " \n",
    "# Define the column names of dataset as a list\n",
    "columns = [\"sepal_length\", \"sepal_width\", \"petal_length\", \"petal_width\", \"class\"]\n",
    " \n",
    "# Use read_csv to read in data as a pandas dataframe\n",
    "df = pd.read_csv(url, names=columns)\n",
    " \n",
    "# Check head of dataframe\n",
    "print(df.head())"
   ]
  },
  {
   "cell_type": "code",
   "execution_count": null,
   "metadata": {},
   "outputs": [],
   "source": []
  }
 ],
 "metadata": {
  "kernelspec": {
   "display_name": "Python 3",
   "language": "python",
   "name": "python3"
  },
  "language_info": {
   "codemirror_mode": {
    "name": "ipython",
    "version": 3
   },
   "file_extension": ".py",
   "mimetype": "text/x-python",
   "name": "python",
   "nbconvert_exporter": "python",
   "pygments_lexer": "ipython3",
   "version": "3.8.3"
  }
 },
 "nbformat": 4,
 "nbformat_minor": 4
}
