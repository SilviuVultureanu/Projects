{
 "cells": [
  {
   "cell_type": "code",
   "execution_count": 8,
   "metadata": {
    "scrolled": true
   },
   "outputs": [
    {
     "name": "stdout",
     "output_type": "stream",
     "text": [
      "['https://content.codecademy.com/courses/beautifulsoup/aesop.html', 'https://content.codecademy.com/courses/beautifulsoup/caesar.html', 'https://content.codecademy.com/courses/beautifulsoup/sulla.html', 'https://content.codecademy.com/courses/beautifulsoup/spyro.html', 'https://content.codecademy.com/courses/beautifulsoup/zelda.html', 'https://content.codecademy.com/courses/beautifulsoup/bandicoot.html', 'https://content.codecademy.com/courses/beautifulsoup/hal.html', 'https://content.codecademy.com/courses/beautifulsoup/mock.html', 'https://content.codecademy.com/courses/beautifulsoup/sparrow.html']\n",
      "\n",
      "\n",
      "{<p class=\"name\">Aesop</p>: [], <p class=\"name\">Caesar</p>: [], <p class=\"name\">Sulla</p>: [], <p class=\"name\">Spyro</p>: [], <p class=\"name\">Zelda</p>: [], <p class=\"name\">Bandicoot</p>: [], <p class=\"name\">Hal</p>: [], <p class=\"name\">Mock</p>: [], <p class=\"name\">Sparrow</p>: []}\n"
     ]
    }
   ],
   "source": [
    "import requests\n",
    "from bs4 import BeautifulSoup\n",
    "\n",
    "prefix = \"https://content.codecademy.com/courses/beautifulsoup/\"\n",
    "webpage_response = requests.get('https://content.codecademy.com/courses/beautifulsoup/shellter.html')\n",
    "\n",
    "webpage = webpage_response.content\n",
    "soup = BeautifulSoup(webpage, \"html.parser\")\n",
    "\n",
    "turtle_links = soup.find_all(\"a\")\n",
    "links = []\n",
    "#go through all of the a tags and get the links associated with them:\n",
    "for a in turtle_links:\n",
    "  links.append(prefix+a[\"href\"])\n",
    "    \n",
    "#Define turtle_data:\n",
    "turtle_data = {}\n",
    "print(links)\n",
    "print('\\n')\n",
    "\n",
    "#follow each link:\n",
    "for link in links:\n",
    "  webpage = requests.get(link)\n",
    "  turtle = BeautifulSoup(webpage.content, \"html.parser\")\n",
    "  #Add your code here:\n",
    "  turtle_name = turtle.select(\".name\")[0]\n",
    "  turtle_data[turtle_name] = []\n",
    "  \n",
    "print(turtle_data)"
   ]
  }
 ],
 "metadata": {
  "kernelspec": {
   "display_name": "Python 3",
   "language": "python",
   "name": "python3"
  },
  "language_info": {
   "codemirror_mode": {
    "name": "ipython",
    "version": 3
   },
   "file_extension": ".py",
   "mimetype": "text/x-python",
   "name": "python",
   "nbconvert_exporter": "python",
   "pygments_lexer": "ipython3",
   "version": "3.8.3"
  }
 },
 "nbformat": 4,
 "nbformat_minor": 4
}
