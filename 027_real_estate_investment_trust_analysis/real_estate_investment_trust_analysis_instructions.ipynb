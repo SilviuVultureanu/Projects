{
 "cells": [
  {
   "cell_type": "markdown",
   "metadata": {},
   "source": [
    "# REIT STOCK ANALYSIS"
   ]
  },
  {
   "cell_type": "markdown",
   "metadata": {},
   "source": [
    "In this project, you will analyze Real Estate Investment Trusts, commonly known as REITs. REITs are companies that own or operate real estate that produces income. REITs, like the stocks of regular public companies, are traded on different stock exchanges. Investing in a REIT allows you to invest in portfolios of real estate assets the same way you can invest in a company by buying its stock.\n",
    "\n",
    "Using financial statistics and NumPy you will analyze two REITs: [Sabra Health Care REIT Inc. (NASDAQ: SBRA)](https://finance.yahoo.com/quote/SBRA/), which invests in health care real estate, and [Equity Residential (NASDAQ:EQR)](https://finance.yahoo.com/quote/EQR/), which invests in rental apartment properties."
   ]
  },
  {
   "cell_type": "markdown",
   "metadata": {},
   "source": [
    "The time period for analysis we will be using is `Jan 1 2018` to `Dec 31 2018`. The REIT data for SBRA (`SBRA.csv`) and EQR (`EQR.csv`) can be found in the same folder as this file."
   ]
  },
  {
   "cell_type": "markdown",
   "metadata": {},
   "source": [
    "1. Import the numpy module as np"
   ]
  },
  {
   "cell_type": "code",
   "execution_count": 32,
   "metadata": {},
   "outputs": [],
   "source": [
    "import numpy as np"
   ]
  },
  {
   "cell_type": "markdown",
   "metadata": {},
   "source": [
    "2. Load the adjusted closings for SBRA"
   ]
  },
  {
   "cell_type": "code",
   "execution_count": 33,
   "metadata": {},
   "outputs": [
    {
     "data": {
      "text/plain": [
       "array([15.36233 , 16.012386, 16.528606, 16.882313, 17.427212, 17.522808,\n",
       "       17.513248, 17.427212, 17.264698, 17.417652, 17.847836, 18.105947,\n",
       "       18.344938, 18.306698, 18.497892, 18.77512 , 19.09059 , 19.386936,\n",
       "       19.377378, 19.55901 , 19.635489, 19.425177, 19.664167, 19.539892,\n",
       "       19.635489, 19.80756 , 19.654606, 19.60681 , 19.358257, 19.32958 ,\n",
       "       19.339357, 19.544678, 19.388243, 19.241585, 19.222029, 19.143812,\n",
       "       18.635395, 18.381187, 18.038986, 17.716337, 17.31547 , 17.247028,\n",
       "       17.256807, 17.149258, 17.119926, 17.071039, 17.383911, 17.608788,\n",
       "       17.941214, 17.970543, 17.892326, 17.726112, 17.765223, 17.980322,\n",
       "       18.58651 , 18.293192, 18.449629, 18.762501, 18.870049, 19.192698,\n",
       "       19.036261, 18.899382, 18.879826, 18.694059, 18.762501, 18.958044,\n",
       "       18.870049, 18.801609, 19.04604 , 19.241585, 19.241585, 19.222029,\n",
       "       18.821163, 18.361633, 18.713614, 18.410519, 18.713614, 18.909159,\n",
       "       18.909159, 19.153589, 18.967821, 19.124256, 19.094927, 19.143812,\n",
       "       19.554455, 19.456682, 19.143812, 19.319801, 18.840717, 19.310024,\n",
       "       19.241585, 19.417574, 19.574011, 19.75    , 19.709999, 19.530001,\n",
       "       19.73    , 19.700001, 19.709999, 19.75    , 19.540001, 19.219999,\n",
       "       19.370001, 19.290001, 19.24    , 19.1     , 19.32    , 19.450001,\n",
       "       19.49    , 19.32    , 19.290001, 19.32    , 19.48    , 19.43    ,\n",
       "       19.790001, 19.58    , 20.139999, 20.049999, 19.57    , 19.309999,\n",
       "       19.26    , 18.870001, 19.450001, 19.690001])"
      ]
     },
     "execution_count": 33,
     "metadata": {},
     "output_type": "execute_result"
    }
   ],
   "source": [
    "adj_closings_sbra = np.genfromtxt('SBRA.csv', usecols=5, delimiter=',', skip_header=1)\n",
    "adj_closings_sbra"
   ]
  },
  {
   "cell_type": "markdown",
   "metadata": {},
   "source": [
    "3. Load the adjusted closings for EQR"
   ]
  },
  {
   "cell_type": "code",
   "execution_count": 34,
   "metadata": {},
   "outputs": [
    {
     "data": {
      "text/plain": [
       "array([62.800674, 63.19466 , 63.588642, 64.120514, 65.322166, 65.322166,\n",
       "       66.395767, 66.533653, 66.61245 , 67.429955, 68.040634, 68.858147,\n",
       "       69.064987, 69.340775, 69.28167 , 69.291527, 69.606705, 70.640915,\n",
       "       71.281136, 70.916695, 71.468269, 70.936401, 71.694817, 71.852402,\n",
       "       71.901649, 72.433533, 72.335037, 72.354729, 71.448578, 72.187286,\n",
       "       72.019852, 72.10849 , 72.423676, 71.586472, 72.748718, 73.113152,\n",
       "       72.394127, 72.610817, 72.226692, 72.581276, 72.394127, 72.866913,\n",
       "       72.817657, 72.443382, 72.325188, 72.532021, 73.319992, 73.920807,\n",
       "       73.782921, 73.930656, 73.635178, 72.866913, 72.394127, 72.512329,\n",
       "       73.664719, 73.841385, 73.910858, 74.575829, 74.41703 , 75.062149,\n",
       "       74.754478, 74.41703 , 75.121704, 74.823952, 74.714775, 75.042297,\n",
       "       74.992676, 74.823952, 75.776741, 76.114189, 76.868484, 77.017357,\n",
       "       75.1614  , 73.732208, 74.506355, 73.613106, 74.397179, 74.903351,\n",
       "       75.399597, 75.627869, 74.734627, 75.846214, 75.945465, 75.82637 ,\n",
       "       76.014938, 75.637794, 74.208603, 73.881088, 74.258232, 75.260651,\n",
       "       75.270569, 75.240791, 75.61795 , 76.233284, 76.044716, 75.181252,\n",
       "       75.786667, 76.064568, 76.531036, 76.610435, 75.637794, 75.101845,\n",
       "       75.250725, 75.995094, 75.667564, 74.913277, 76.669983, 77.205933,\n",
       "       77.394508, 77.245636, 77.215858, 77.066986, 77.344879, 77.672401,\n",
       "       78.079323, 77.463982, 77.841125, 78.238121, 77.44413 , 77.682327,\n",
       "       76.332542, 75.082001, 75.610001, 75.919998])"
      ]
     },
     "execution_count": 34,
     "metadata": {},
     "output_type": "execute_result"
    }
   ],
   "source": [
    "adj_closings_eqr = np.genfromtxt('EQR.csv', usecols=5, delimiter=',', skip_header=1)\n",
    "adj_closings_eqr"
   ]
  },
  {
   "cell_type": "markdown",
   "metadata": {},
   "source": [
    "## Simple Rate of Return Function"
   ]
  },
  {
   "cell_type": "markdown",
   "metadata": {},
   "source": [
    "4. To calculate the daily rate of return for the SBRA stock, we need the daily adjusted closing price. The formula we are using for the daily rate of return is out[n] = a[n+1] - a[n] "
   ]
  },
  {
   "cell_type": "markdown",
   "metadata": {},
   "source": [
    "5. Create a function that returns the daily rate of return\n",
    "\n",
    "    step 1. define a function named `rate_of_return`\n",
    "    \n",
    "    step 2. create parameter for  `adj_closings`\n",
    "    \n",
    "    step 3. Within the function use np.diff() and set it to the variable `daily_simple_ror`\n",
    "    \n",
    "    step 4. return `daily_simple_ror`"
   ]
  },
  {
   "cell_type": "code",
   "execution_count": 35,
   "metadata": {},
   "outputs": [],
   "source": [
    "def rate_of_return(adj_closings):\n",
    "    daily_simple_ror = np.diff(adj_closings)/adj_closings[:-1]    \n",
    "    return daily_simple_ror"
   ]
  },
  {
   "cell_type": "markdown",
   "metadata": {},
   "source": [
    "## Calculate Daily Rate of Return for SBRA"
   ]
  },
  {
   "cell_type": "markdown",
   "metadata": {},
   "source": [
    "6. Call the function `simple_rate_of_return` with the arguments `adj_closings_sbra`. Then print the results. "
   ]
  },
  {
   "cell_type": "code",
   "execution_count": 36,
   "metadata": {},
   "outputs": [
    {
     "name": "stdout",
     "output_type": "stream",
     "text": [
      "[ 0.04231494  0.03223879  0.02139969  0.03227632  0.00548544 -0.00054557\n",
      " -0.00491262 -0.0093253   0.00885935  0.02469816  0.01446175  0.01319959\n",
      " -0.0020845   0.01044394  0.01498701  0.01680256  0.01552315 -0.00049301\n",
      "  0.0093734   0.00391017 -0.01071081  0.01230311 -0.00631987  0.0048924\n",
      "  0.00876327 -0.007722   -0.0024318  -0.01267687 -0.00148138  0.00050581\n",
      "  0.01061674 -0.00800397 -0.00756427 -0.00101634 -0.00406913 -0.02655777\n",
      " -0.01364114 -0.01861692 -0.0178862  -0.02262697 -0.00395265  0.000567\n",
      " -0.00623227 -0.00171039 -0.00285556  0.01832765  0.01293593  0.01887841\n",
      "  0.00163473 -0.00435251 -0.00928968  0.00220641  0.01210787  0.03371397\n",
      " -0.01578123  0.00855165  0.01695817  0.00573207  0.01709847 -0.00815086\n",
      " -0.00719044 -0.00103474 -0.00983944  0.00366116  0.01042201 -0.00464157\n",
      " -0.00362691  0.01300054  0.01026696  0.         -0.00101634 -0.02085451\n",
      " -0.0244156   0.01916937 -0.0161965   0.01646314  0.01044934  0.\n",
      "  0.01292654 -0.00969886  0.00824739 -0.0015336   0.0025601   0.02145043\n",
      " -0.00500004 -0.01608034  0.009193   -0.02479756  0.02490919 -0.00354422\n",
      "  0.00914628  0.00805646  0.00899095 -0.00202537 -0.00913232  0.0102406\n",
      " -0.00152048  0.00050751  0.00202948 -0.01063286 -0.01637676  0.00780447\n",
      " -0.0041301  -0.00259207 -0.00727651  0.01151832  0.00672883  0.0020565\n",
      " -0.00872242 -0.00155274  0.00155516  0.00828157 -0.00256674  0.0185281\n",
      " -0.01061147  0.02860056 -0.00446872 -0.0239401  -0.01328569 -0.00258928\n",
      " -0.02024917  0.03073662  0.01233933]\n"
     ]
    }
   ],
   "source": [
    "print (rate_of_return(adj_closings_sbra))\n",
    "daily_ror_sbra = rate_of_return(adj_closings_sbra)"
   ]
  },
  {
   "cell_type": "markdown",
   "metadata": {},
   "source": [
    "## Calculate Daily Rate of Return for EQR"
   ]
  },
  {
   "cell_type": "markdown",
   "metadata": {},
   "source": [
    "7. Call the function `simple_rate_of_return` with the arguments `adj_closings_eqr`. Then print the results. "
   ]
  },
  {
   "cell_type": "code",
   "execution_count": 37,
   "metadata": {
    "scrolled": true
   },
   "outputs": [],
   "source": [
    "#print (rate_of_return(adj_closings_eqr))\n",
    "daily_ror_eqr = rate_of_return(adj_closings_eqr)"
   ]
  },
  {
   "cell_type": "markdown",
   "metadata": {},
   "source": [
    "## Calculate Average Daily Return for SBRA"
   ]
  },
  {
   "cell_type": "markdown",
   "metadata": {},
   "source": [
    "8. Use `np.mean()` with the argument `daily_simple_returns_sbra` to calculate the average daily return for SBRA. Then set it to the variable name `average_daily_simple_return_sbra`"
   ]
  },
  {
   "cell_type": "code",
   "execution_count": 38,
   "metadata": {},
   "outputs": [
    {
     "data": {
      "text/plain": [
       "0.00210937212011956"
      ]
     },
     "execution_count": 38,
     "metadata": {},
     "output_type": "execute_result"
    }
   ],
   "source": [
    "average_daily_simple_return_sbra = np.mean(daily_ror_sbra)\n",
    "average_daily_simple_return_sbra"
   ]
  },
  {
   "cell_type": "markdown",
   "metadata": {},
   "source": [
    "## Calculate Average Daily Return for EQR"
   ]
  },
  {
   "cell_type": "markdown",
   "metadata": {},
   "source": [
    "9. Use `np.mean()` with the argument `daily_simple_returns_eqr` to calculate the average daily return for EQR. Then set it to the variable name `average_daily_simple_return_eqr`"
   ]
  },
  {
   "cell_type": "code",
   "execution_count": 39,
   "metadata": {},
   "outputs": [
    {
     "data": {
      "text/plain": [
       "0.0015777637451981398"
      ]
     },
     "execution_count": 39,
     "metadata": {},
     "output_type": "execute_result"
    }
   ],
   "source": [
    "average_daily_simple_return_eqr = np.mean(daily_ror_eqr)\n",
    "average_daily_simple_return_eqr"
   ]
  },
  {
   "cell_type": "markdown",
   "metadata": {},
   "source": [
    "## Compare the Average Daily Return between EQR and SBRA"
   ]
  },
  {
   "cell_type": "markdown",
   "metadata": {},
   "source": [
    "10. Based on the average daily simple returns of EQR and SBRA, which stock is more likely to be profitable in the future?"
   ]
  },
  {
   "cell_type": "code",
   "execution_count": 42,
   "metadata": {},
   "outputs": [
    {
     "name": "stdout",
     "output_type": "stream",
     "text": [
      "SBRA is a better investment\n"
     ]
    }
   ],
   "source": [
    "if average_daily_simple_return_sbra > average_daily_simple_return_eqr:\n",
    "    print('SBRA is a better investment')\n",
    "else:\n",
    "    print('EQR is a better investment')"
   ]
  },
  {
   "cell_type": "markdown",
   "metadata": {},
   "source": [
    "## Daily Log Returns Function"
   ]
  },
  {
   "cell_type": "markdown",
   "metadata": {},
   "source": [
    "11. Create a function that returns the daily rate of return\n",
    "\n",
    "    step 1. define a function named log_returns\n",
    "    \n",
    "    step 2. create parameter for  `adj_closings`\n",
    "    \n",
    "    step 3. use np.log() to get the log of each adjusted closing price and set it to the variable `log_adj_closings`\n",
    "    \n",
    "    step 4. use np.diff() to get the diff of each daily log adjusted closing price and set it to the variable `daily_log_returns`\n",
    "    \n",
    "    step 5. return `daily_log_returns`"
   ]
  },
  {
   "cell_type": "code",
   "execution_count": 40,
   "metadata": {},
   "outputs": [],
   "source": [
    "def log_returns(adj_closings):\n",
    "    log_adj_closings = np.log(adj_closings)\n",
    "    daily_log_returns = np.diff(log_adj_closings)\n",
    "    return daily_log_returns"
   ]
  },
  {
   "cell_type": "markdown",
   "metadata": {},
   "source": [
    "## Calculate Daily Log Returns for SBRA"
   ]
  },
  {
   "cell_type": "markdown",
   "metadata": {},
   "source": [
    "12. Call the function `log_returns` with the arguments `adj_closings_sbra`. Set it to the variable `daily_log_returns_sbra`. Then print the results. "
   ]
  },
  {
   "cell_type": "code",
   "execution_count": 43,
   "metadata": {
    "scrolled": true
   },
   "outputs": [],
   "source": [
    "daily_log_returns_sbra = log_returns(adj_closings_sbra)"
   ]
  },
  {
   "cell_type": "markdown",
   "metadata": {},
   "source": [
    "## Calculate Daily Log Returns for EQR"
   ]
  },
  {
   "cell_type": "markdown",
   "metadata": {},
   "source": [
    "13. Call the function `log_returns` with the arguments `adj_closings_eqr`. Set it to the variable `daily_log_returns_eqr`. Then print the results. "
   ]
  },
  {
   "cell_type": "code",
   "execution_count": 44,
   "metadata": {},
   "outputs": [],
   "source": [
    "daily_log_returns_eqr = log_returns(adj_closings_eqr)"
   ]
  },
  {
   "cell_type": "markdown",
   "metadata": {},
   "source": [
    "## Annualize Daily Log Return Function"
   ]
  },
  {
   "cell_type": "markdown",
   "metadata": {},
   "source": [
    "14. Create a function that returns the daily rate of return\n",
    "\n",
    "    step 1. define a function named `annualize_log_return`\n",
    "    \n",
    "    step 2. create parameter for  `daily_log_returns`\n",
    "    \n",
    "    step 3. use `np.mean()` with the argument `daily_log_returns` to calculate the average daily return. Then set it to the variable name `average_daily_log_returns`\n",
    "    \n",
    "    step 4. then multiply `average_daily_log_returns` by 250 and set it to the variable `annualized_log_return`\n",
    "    \n",
    "    step 5. return `annualized_log_return`"
   ]
  },
  {
   "cell_type": "code",
   "execution_count": 45,
   "metadata": {},
   "outputs": [],
   "source": [
    "def annual_log_returns(daily_log_returns):\n",
    "    average_daily_log_returns = np.mean(daily_log_returns)\n",
    "    annualized_log_return = 250* average_daily_log_returns\n",
    "    return annualized_log_return"
   ]
  },
  {
   "cell_type": "markdown",
   "metadata": {},
   "source": [
    "## Calculate Annualize Daily Log Return for SBRA"
   ]
  },
  {
   "cell_type": "markdown",
   "metadata": {},
   "source": [
    "10. Call the function `annualize_log_return` with the arguments `daily_log_returns_sbra`. Set it to the variable `annualized_log_return_sbra`. Then print the results. "
   ]
  },
  {
   "cell_type": "code",
   "execution_count": 46,
   "metadata": {},
   "outputs": [
    {
     "data": {
      "text/plain": [
       "0.5044563709645333"
      ]
     },
     "execution_count": 46,
     "metadata": {},
     "output_type": "execute_result"
    }
   ],
   "source": [
    "annualized_log_return_sbra = annual_log_returns(daily_log_returns_sbra)\n",
    "annualized_log_return_sbra"
   ]
  },
  {
   "cell_type": "markdown",
   "metadata": {},
   "source": [
    "## Calculate Annualize Daily Log Return for EQR"
   ]
  },
  {
   "cell_type": "markdown",
   "metadata": {},
   "source": [
    "11. Call the function `annualize_log_return` with the arguments `daily_log_returns_eqr`. Set it to the variable `annualized_log_return_eqr`. Then print the results. "
   ]
  },
  {
   "cell_type": "code",
   "execution_count": 47,
   "metadata": {},
   "outputs": [
    {
     "data": {
      "text/plain": [
       "0.3855982155640554"
      ]
     },
     "execution_count": 47,
     "metadata": {},
     "output_type": "execute_result"
    }
   ],
   "source": [
    "annualized_log_return_eqr = annual_log_returns(daily_log_returns_eqr)\n",
    "annualized_log_return_eqr"
   ]
  },
  {
   "cell_type": "markdown",
   "metadata": {},
   "source": [
    "## Compare the Annualize Daily Log Return between EQR and SBRA"
   ]
  },
  {
   "cell_type": "markdown",
   "metadata": {},
   "source": [
    "12. Based on the differences between the Annualize Daily Log Return for EQR and SBRA, Which could be more profitable in the future and why?"
   ]
  },
  {
   "cell_type": "code",
   "execution_count": 48,
   "metadata": {},
   "outputs": [
    {
     "name": "stdout",
     "output_type": "stream",
     "text": [
      "SBRA is a better investment\n"
     ]
    }
   ],
   "source": [
    "if annualized_log_return_sbra > annualized_log_return_eqr:\n",
    "    print ('SBRA is a better investment')\n",
    "else:\n",
    "    print ('EQR is a better investment')"
   ]
  },
  {
   "cell_type": "markdown",
   "metadata": {},
   "source": [
    "## Calculate Variance of Daily Log Return for SBRA"
   ]
  },
  {
   "cell_type": "markdown",
   "metadata": {},
   "source": [
    "13. Calculate the variance of the daily logarithmetic return for SBRA. Use the function `.var()` with the argument `log_daily_ror`. Set it to the variable `daily_varaince_sbra`. Then print the results. "
   ]
  },
  {
   "cell_type": "code",
   "execution_count": 53,
   "metadata": {},
   "outputs": [
    {
     "data": {
      "text/plain": [
       "0.00017844226355047074"
      ]
     },
     "execution_count": 53,
     "metadata": {},
     "output_type": "execute_result"
    }
   ],
   "source": [
    "daily_variance_sbra = np.var(daily_log_returns_sbra)\n",
    "daily_variance_sbra"
   ]
  },
  {
   "cell_type": "markdown",
   "metadata": {},
   "source": [
    "## Calculate Variance of Daily Log Return for EQR"
   ]
  },
  {
   "cell_type": "markdown",
   "metadata": {},
   "source": [
    "14. Calculate the variance of the daily logarithmetic return for EQR. Use the function `.var()` with the argument `daily_log_returns_eqr`. Set it to the variable `daily_varaince_eqr`. Then print the results. "
   ]
  },
  {
   "cell_type": "code",
   "execution_count": 52,
   "metadata": {},
   "outputs": [
    {
     "data": {
      "text/plain": [
       "6.833881310511606e-05"
      ]
     },
     "execution_count": 52,
     "metadata": {},
     "output_type": "execute_result"
    }
   ],
   "source": [
    "daily_variance_eqr = np.var(daily_log_returns_eqr)\n",
    "daily_variance_eqr"
   ]
  },
  {
   "cell_type": "markdown",
   "metadata": {},
   "source": [
    "## Compare the Variance of Daily Log Return between EQR and SBRA"
   ]
  },
  {
   "cell_type": "markdown",
   "metadata": {},
   "source": [
    "15. Explain which investment is more riskier based on the Variance of daily log return between EQR and SBRA ?"
   ]
  },
  {
   "cell_type": "code",
   "execution_count": 55,
   "metadata": {},
   "outputs": [
    {
     "name": "stdout",
     "output_type": "stream",
     "text": [
      "EQR has less risk\n"
     ]
    }
   ],
   "source": [
    "if daily_variance_sbra < daily_variance_eqr:\n",
    "    print ('SBRA has less risk')\n",
    "else:\n",
    "    print ('EQR has less risk')"
   ]
  },
  {
   "cell_type": "markdown",
   "metadata": {},
   "source": [
    "## Calculate the Daily Standard Deviation for SBRA"
   ]
  },
  {
   "cell_type": "markdown",
   "metadata": {},
   "source": [
    "16. Calculate the Standard Deviation of the daily logarithmetic return for SBRA. Use the function `.std()` with the argument `daily_log_returns_sbra`. Set it to the variable `daily_sd_sbra`. Then print the results. "
   ]
  },
  {
   "cell_type": "code",
   "execution_count": 56,
   "metadata": {},
   "outputs": [
    {
     "data": {
      "text/plain": [
       "0.013358228308816658"
      ]
     },
     "execution_count": 56,
     "metadata": {},
     "output_type": "execute_result"
    }
   ],
   "source": [
    "daily_sd_sbra = np.std(daily_log_returns_sbra)\n",
    "daily_sd_sbra"
   ]
  },
  {
   "cell_type": "markdown",
   "metadata": {},
   "source": [
    "## Calculate the Daily Standard Deviation for EQR"
   ]
  },
  {
   "cell_type": "markdown",
   "metadata": {},
   "source": [
    "17. Calculate the Standard Deviation of the daily logarithmetic return for EQR. Use the function `.std()` with the argument `daily_log_returns_eqr`. Set it to the variable `daily_sd_eqr`. Then print the results. "
   ]
  },
  {
   "cell_type": "code",
   "execution_count": 57,
   "metadata": {},
   "outputs": [
    {
     "data": {
      "text/plain": [
       "0.00826672928703463"
      ]
     },
     "execution_count": 57,
     "metadata": {},
     "output_type": "execute_result"
    }
   ],
   "source": [
    "daily_sd_eqr = np.std(daily_log_returns_eqr)\n",
    "daily_sd_eqr"
   ]
  },
  {
   "cell_type": "markdown",
   "metadata": {},
   "source": [
    "## Compare the Daily Standard Deviation between EQR and SBRA"
   ]
  },
  {
   "cell_type": "markdown",
   "metadata": {},
   "source": [
    "18. Has your previous variance risk assessment changed based on the Daily Standard Deviation and why?"
   ]
  },
  {
   "cell_type": "code",
   "execution_count": 58,
   "metadata": {},
   "outputs": [
    {
     "name": "stdout",
     "output_type": "stream",
     "text": [
      "EQR has less risk\n"
     ]
    }
   ],
   "source": [
    "if daily_sd_sbra < daily_sd_eqr:\n",
    "    print ('SBRA has less risk')\n",
    "else:\n",
    "    print ('EQR has less risk')"
   ]
  },
  {
   "cell_type": "markdown",
   "metadata": {},
   "source": [
    "## Calculate the Correlation between SBRA and EQR"
   ]
  },
  {
   "cell_type": "markdown",
   "metadata": {},
   "source": [
    "19. Calculate the Correlation of the daily logarithmetic return between SBRA and ERQ assets. Use the function `.corrcoef()` with the arguments `daily_log_returns_sbra` and `daily_log_returns_eqr`. Set it to the variable `corr_sbra_eqr`. Then print the results. "
   ]
  },
  {
   "cell_type": "code",
   "execution_count": 59,
   "metadata": {},
   "outputs": [],
   "source": [
    "corr_sbra_eqr = np.corrcoef(daily_log_returns_sbra, daily_log_returns_eqr)"
   ]
  },
  {
   "cell_type": "markdown",
   "metadata": {},
   "source": [
    "## Interpret the Correlation between SBRA and EQR"
   ]
  },
  {
   "cell_type": "markdown",
   "metadata": {},
   "source": [
    "20. Interpret and explain the correlation between the stocks SBRA and EQR?"
   ]
  },
  {
   "cell_type": "code",
   "execution_count": 61,
   "metadata": {},
   "outputs": [
    {
     "name": "stdout",
     "output_type": "stream",
     "text": [
      "0.6209659075681433\n"
     ]
    }
   ],
   "source": [
    "print(corr_sbra_eqr[0,1])\n",
    "print('There is mild positive correlation. The stocks have common external influences.')"
   ]
  },
  {
   "cell_type": "markdown",
   "metadata": {},
   "source": [
    "## Final Analysis"
   ]
  },
  {
   "cell_type": "markdown",
   "metadata": {},
   "source": [
    "21. Which stock would you invest in based on risk and profitability?\n",
    "\n",
    "`The two stocks have mild positive correlation. The risks are the same type.\n",
    "SBRA has more risk asociated, with a higher return when compared to EQR. It is more adequate for short term investments.\n",
    "EQR has less risk, with a lower retrn when compared to SBRA. It is more adequate for long term investments.\n",
    "I would research more with regard to the Efficient Frotier. \n",
    "The one closer to it has the best compromise between return and risk.\n",
    "When choosing an asset we need to understand it in the context of an potential portfolio: a low correlation with other existing datasets.`"
   ]
  }
 ],
 "metadata": {
  "kernelspec": {
   "display_name": "Python 3",
   "language": "python",
   "name": "python3"
  },
  "language_info": {
   "codemirror_mode": {
    "name": "ipython",
    "version": 3
   },
   "file_extension": ".py",
   "mimetype": "text/x-python",
   "name": "python",
   "nbconvert_exporter": "python",
   "pygments_lexer": "ipython3",
   "version": "3.8.3"
  },
  "latex_envs": {
   "LaTeX_envs_menu_present": true,
   "autoclose": false,
   "autocomplete": true,
   "bibliofile": "biblio.bib",
   "cite_by": "apalike",
   "current_citInitial": 1,
   "eqLabelWithNumbers": true,
   "eqNumInitial": 1,
   "hotkeys": {
    "equation": "Ctrl-E",
    "itemize": "Ctrl-I"
   },
   "labels_anchors": false,
   "latex_user_defs": false,
   "report_style_numbering": false,
   "user_envs_cfg": false
  }
 },
 "nbformat": 4,
 "nbformat_minor": 2
}
