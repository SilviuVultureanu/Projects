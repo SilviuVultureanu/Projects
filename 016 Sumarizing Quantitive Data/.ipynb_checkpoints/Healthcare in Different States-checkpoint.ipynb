{
 "cells": [
  {
   "cell_type": "markdown",
   "metadata": {},
   "source": [
    "#### SUMMARIZING QUANTITATIVE DATA\n",
    "# Healthcare in Different States\n",
    "In this project, we will use boxplots to investigate the way hospitals in different states across the United States charge their patients for medical procedures.\n",
    "\n",
    "This dataset might look a bit familiar to you — we used it in our lesson about describing histograms. The data originally came from the United State Health and Human Services Department.\n",
    "\n",
    "Let’s use boxplots to find more meaning in this data!"
   ]
  },
  {
   "cell_type": "code",
   "execution_count": 21,
   "metadata": {},
   "outputs": [
    {
     "data": {
      "text/plain": [
       "['DRG Definition',\n",
       " 'Provider Id',\n",
       " 'Provider Name',\n",
       " 'Provider Street Address',\n",
       " 'Provider City',\n",
       " 'Provider State',\n",
       " 'Provider Zip Code',\n",
       " 'Hospital Referral Region Description',\n",
       " ' Total Discharges ',\n",
       " ' Average Covered Charges ',\n",
       " ' Average Total Payments ',\n",
       " 'Average Medicare Payments']"
      ]
     },
     "execution_count": 21,
     "metadata": {},
     "output_type": "execute_result"
    }
   ],
   "source": [
    "import pandas as pd\n",
    "import numpy as np\n",
    "from matplotlib import pyplot as plt\n",
    "\n",
    "healthcare = pd.read_csv(\"healthcare.csv\")\n",
    "healthcare.columns.tolist() #output the column names"
   ]
  },
  {
   "cell_type": "code",
   "execution_count": 23,
   "metadata": {
    "scrolled": true
   },
   "outputs": [
    {
     "data": {
      "text/html": [
       "<div>\n",
       "<style scoped>\n",
       "    .dataframe tbody tr th:only-of-type {\n",
       "        vertical-align: middle;\n",
       "    }\n",
       "\n",
       "    .dataframe tbody tr th {\n",
       "        vertical-align: top;\n",
       "    }\n",
       "\n",
       "    .dataframe thead th {\n",
       "        text-align: right;\n",
       "    }\n",
       "</style>\n",
       "<table border=\"1\" class=\"dataframe\">\n",
       "  <thead>\n",
       "    <tr style=\"text-align: right;\">\n",
       "      <th></th>\n",
       "      <th>DRG Definition</th>\n",
       "      <th>Provider Id</th>\n",
       "      <th>Provider Name</th>\n",
       "      <th>Provider Street Address</th>\n",
       "      <th>Provider City</th>\n",
       "      <th>Provider State</th>\n",
       "      <th>Provider Zip Code</th>\n",
       "      <th>Hospital Referral Region Description</th>\n",
       "      <th>Total Discharges</th>\n",
       "      <th>Average Covered Charges</th>\n",
       "      <th>Average Total Payments</th>\n",
       "      <th>Average Medicare Payments</th>\n",
       "    </tr>\n",
       "  </thead>\n",
       "  <tbody>\n",
       "    <tr>\n",
       "      <th>0</th>\n",
       "      <td>039 - EXTRACRANIAL PROCEDURES W/O CC/MCC</td>\n",
       "      <td>10001</td>\n",
       "      <td>SOUTHEAST ALABAMA MEDICAL CENTER</td>\n",
       "      <td>1108 ROSS CLARK CIRCLE</td>\n",
       "      <td>DOTHAN</td>\n",
       "      <td>AL</td>\n",
       "      <td>36301</td>\n",
       "      <td>AL - Dothan</td>\n",
       "      <td>91</td>\n",
       "      <td>32963.07</td>\n",
       "      <td>5777.24</td>\n",
       "      <td>4763.73</td>\n",
       "    </tr>\n",
       "    <tr>\n",
       "      <th>1</th>\n",
       "      <td>039 - EXTRACRANIAL PROCEDURES W/O CC/MCC</td>\n",
       "      <td>10005</td>\n",
       "      <td>MARSHALL MEDICAL CENTER SOUTH</td>\n",
       "      <td>2505 U S HIGHWAY 431 NORTH</td>\n",
       "      <td>BOAZ</td>\n",
       "      <td>AL</td>\n",
       "      <td>35957</td>\n",
       "      <td>AL - Birmingham</td>\n",
       "      <td>14</td>\n",
       "      <td>15131.85</td>\n",
       "      <td>5787.57</td>\n",
       "      <td>4976.71</td>\n",
       "    </tr>\n",
       "  </tbody>\n",
       "</table>\n",
       "</div>"
      ],
      "text/plain": [
       "                             DRG Definition  Provider Id  \\\n",
       "0  039 - EXTRACRANIAL PROCEDURES W/O CC/MCC        10001   \n",
       "1  039 - EXTRACRANIAL PROCEDURES W/O CC/MCC        10005   \n",
       "\n",
       "                      Provider Name     Provider Street Address Provider City  \\\n",
       "0  SOUTHEAST ALABAMA MEDICAL CENTER      1108 ROSS CLARK CIRCLE        DOTHAN   \n",
       "1     MARSHALL MEDICAL CENTER SOUTH  2505 U S HIGHWAY 431 NORTH          BOAZ   \n",
       "\n",
       "  Provider State  Provider Zip Code Hospital Referral Region Description  \\\n",
       "0             AL              36301                          AL - Dothan   \n",
       "1             AL              35957                      AL - Birmingham   \n",
       "\n",
       "    Total Discharges    Average Covered Charges    Average Total Payments   \\\n",
       "0                  91                   32963.07                   5777.24   \n",
       "1                  14                   15131.85                   5787.57   \n",
       "\n",
       "   Average Medicare Payments  \n",
       "0                    4763.73  \n",
       "1                    4976.71  "
      ]
     },
     "execution_count": 23,
     "metadata": {},
     "output_type": "execute_result"
    }
   ],
   "source": [
    "healthcare.head(2) #inspect header and first row values"
   ]
  },
  {
   "cell_type": "code",
   "execution_count": 8,
   "metadata": {},
   "outputs": [
    {
     "data": {
      "text/plain": [
       "(163065, 12)"
      ]
     },
     "execution_count": 8,
     "metadata": {},
     "output_type": "execute_result"
    }
   ],
   "source": [
    "healthcare.shape #check total number of rows and columns"
   ]
  },
  {
   "cell_type": "code",
   "execution_count": 13,
   "metadata": {
    "scrolled": true
   },
   "outputs": [
    {
     "data": {
      "text/plain": [
       "False"
      ]
     },
     "execution_count": 13,
     "metadata": {},
     "output_type": "execute_result"
    }
   ],
   "source": [
    "healthcare.isnull().values.any() #check for NaN in dataframe"
   ]
  },
  {
   "cell_type": "markdown",
   "metadata": {},
   "source": [
    "### Investigate the Data\n",
    "1.\n",
    "We’ve imported the dataset into a variable named healthcare. Let’s take a look at what data we have to work with. Print healthcare.head(). This will print the first five rows of the dataset.\n",
    "\n",
    "Scroll through the table to see what information we have. We know that we want to eventually look at the way heathcare works in different states. What column will be useful to do that?\n",
    "\n",
    "2.\n",
    "We’re going to focus on only the ways in which hospitals charge patients for chest pain. But you could do this for any of the diagnoses in our dataset. Print healthcare[\"DRG Definition\"].unique() to see all of the different diagnoses in our dataset.\n",
    "\n",
    "Can you find the official name of the diagnosis related to chest pain?\n",
    "\n",
    "3.\n",
    "Let’s grab only the rows in the dataset that are about chest pain. Use this line of code to do that.\n",
    "\n",
    "chest_pain = healthcare[healthcare['DRG Definition'] == '313 - CHEST PAIN']\n",
    "If you’re interested in investigating a different diagnosis, replace '313 - CHEST PAIN' with the name of the other diagnosis. You might want to change the new variable name to be something other than chest_pain if you do this!"
   ]
  },
  {
   "cell_type": "code",
   "execution_count": 25,
   "metadata": {},
   "outputs": [],
   "source": [
    "# looking for '313 - CHEST PAIN'\n",
    "# healthcare['DRG Definition'].unique() "
   ]
  },
  {
   "cell_type": "code",
   "execution_count": 27,
   "metadata": {},
   "outputs": [
    {
     "data": {
      "text/plain": [
       "(2230, 12)"
      ]
     },
     "execution_count": 27,
     "metadata": {},
     "output_type": "execute_result"
    }
   ],
   "source": [
    "chest_pain = healthcare[healthcare['DRG Definition'] == '313 - CHEST PAIN']\n",
    "chest_pain.shape"
   ]
  },
  {
   "cell_type": "code",
   "execution_count": 88,
   "metadata": {},
   "outputs": [],
   "source": [
    "states = chest_pain['Provider State'].unique().tolist()\n",
    "# len == 51 States"
   ]
  },
  {
   "cell_type": "markdown",
   "metadata": {},
   "source": [
    "### Separating By State\n",
    "4.\n",
    "We now want to separate the dataset by state. Eventually, we’ll use a for loop to do this for every state, but for now, let’s prove to ourselves that we can make a boxplot for one state.\n",
    "\n",
    "When we printed the head, we saw the first few rows had a 'Provider State' of \"AL\". Those were hospitals in Alabama.\n",
    "\n",
    "To get every chest pain diagnosis in Alabama, use this line of code:\n",
    "\n",
    "alabama_chest_pain = chest_pain[chest_pain['Provider State'] == \"AL\"] \\\n",
    "\n",
    "Again, feel free to use a state of your choosing instead of Alabama. Different state abbreviations should work, like \"CO\" or \"NY\". Name your variable appropriately!\n",
    "\n",
    "5.\n",
    "We’re almost there! We now have all of the hospitals in Alabama that have a diagnosed chest pain. We now want to find the average cost of those diagnoses. These value is stored in the column ' Average Covered Charges ' (Note the spaces at the start and the end of the string!)\n",
    "\n",
    "To get only these values, call this line of code:\n",
    "\n",
    "costs = alabama_chest_pain[' Average Covered Charges '].values \\\n",
    "Again, make sure that you’re using the correct variable names — yours might be different.\n",
    "\n",
    "6.\n",
    "Let’s now make a boxplot of those values! Call plt.boxplot() using costs as the first parameter.\n",
    "\n",
    "Then call plt.show() to see your boxplot!"
   ]
  },
  {
   "cell_type": "code",
   "execution_count": 59,
   "metadata": {},
   "outputs": [
    {
     "name": "stdout",
     "output_type": "stream",
     "text": [
      "(52, 9)\n"
     ]
    }
   ],
   "source": [
    "alabama_chest_pain = chest_pain[chest_pain['Provider State'] == \"AL\"] \\\n",
    "                    .reset_index() \\\n",
    "                    .drop(columns=['index', 'DRG Definition', 'Provider State', 'Provider Id'])\n",
    "print(alabama_chest_pain.shape)\n",
    "costs = alabama_chest_pain[' Average Covered Charges '].values"
   ]
  },
  {
   "cell_type": "code",
   "execution_count": 84,
   "metadata": {},
   "outputs": [
    {
     "data": {
      "image/png": "[encoded data removed]",
      "text/plain": [
       "<Figure size 432x288 with 1 Axes>"
      ]
     },
     "metadata": {
      "needs_background": "light"
     },
     "output_type": "display_data"
    },
    {
     "data": {
      "image/png": "[encoded data removed]",
      "text/plain": [
       "<Figure size 432x288 with 1 Axes>"
      ]
     },
     "metadata": {
      "needs_background": "light"
     },
     "output_type": "display_data"
    }
   ],
   "source": [
    "plt.boxplot(costs, labels = ['Alabama'])\n",
    "#plt.legend()\n",
    "plt.show()\n",
    "plt.hist(costs, bins=26, alpha = 0.5)\n",
    "qs = np.quantile(costs, [0.25, 0.5, 0.75])\n",
    "plt.axvline(qs[0], c='r', label='Q1')\n",
    "plt.axvline(qs[1], c='g', label='Q2')\n",
    "plt.axvline(qs[2], c='b', label='Q3')\n",
    "plt.legend()\n",
    "plt.show()"
   ]
  },
  {
   "cell_type": "markdown",
   "metadata": {},
   "source": [
    "### Making a Boxplot for All States\n",
    "7.\n",
    "Nice work! We’ve made a boxplot for one state. But how does that state compare to the others? Let’s make a boxplot for every state! Comment out (or delete) the two lines of code you just wrote to make the boxplot.\n",
    "\n",
    "To begin, we first need to create a list of all the states in our dataset. We can once again use the unique() function. We used this function when we looked at all of the diagnoses.\n",
    "\n",
    "Find all of the unique states from the dataset **chest_pain** and store it in a variable named ***states***.\n",
    "\n",
    "8.\n",
    "We’ll now use a for loop to separate the dataset into a dataset for each state:\n",
    "\n",
    "datasets = [] \\\n",
    "for state in states: \\\n",
    "  datasets.append(chest_pain[chest_pain['Provider State'] == state][' Average Covered Charges '].values)\n",
    "  \n",
    "datasets now contains 50 datasets — one for each state.\n",
    "\n",
    "9.\n",
    "We’re about to draw 50 boxplots. Before we draw them, let’s make sure there’s enough room. Call plt.figure(figsize=(20,6)). This will make your figure long to allow room for so many boxplots!\n",
    "\n",
    "10.\n",
    "Draw the boxplot using datasets as the first parameter. Add the second parameter labels = states to label your boxplots.\n",
    "\n",
    "Finally, make sure to call plt.show()."
   ]
  },
  {
   "cell_type": "code",
   "execution_count": 93,
   "metadata": {},
   "outputs": [
    {
     "data": {
      "image/png": "[encoded data removed]",
      "text/plain": [
       "<Figure size 1440x720 with 1 Axes>"
      ]
     },
     "metadata": {
      "needs_background": "light"
     },
     "output_type": "display_data"
    }
   ],
   "source": [
    "datasets = []\n",
    "for state in states:\n",
    "    datasets.append(chest_pain[chest_pain['Provider State'] == state][' Average Covered Charges '].values)\n",
    "\n",
    "plt.figure(figsize=(20,10))\n",
    "plt.boxplot(datasets, labels = states)\n",
    "plt.show()"
   ]
  },
  {
   "cell_type": "markdown",
   "metadata": {},
   "source": [
    "### Interpret and Explore\n",
    "11.\n",
    "Nice work! You should now see 50 boxplots. If the graph is too small to see, you can expand it by clicking on the arrows in the top right corner of the right panel. You can also take a look at this image to see what your final results should look like.\n",
    "\n",
    "What information have you learned by looking at these boxplots side by side? What state has the largest spread? What state has the largest median? Which states have the most outliers?\n",
    "\n",
    "Check the hint:\\\n",
    "If looks like California, New Jersey, and Florida have the largest spreads. Vermont has almost no spread.\\\n",
    "The state with the largest median cost for a chest pain diagnosis is New Jersey. \\\n",
    "The state with the smallest median cost is Maryland. \\\n",
    "California, Georgia, and Tennessee all have a fair number of outliers.\n",
    "\n",
    "12.\n",
    "Take some time to explore more from here. Here are some ways in which you can investigate the data more:\n",
    "\n",
    "Look at diagnoses other than '313 - CHEST PAIN'.\\\n",
    "Group states by regions. Maybe hospitals in the Northeast charge patients differently than hospitals in the South.\\\n",
    "Plot something other than ' Average Covered Charges '. \\\n",
    "You have data about how much Meidcare pays in the 'Average Medicare Payments' column."
   ]
  },
  {
   "cell_type": "code",
   "execution_count": null,
   "metadata": {},
   "outputs": [],
   "source": []
  }
 ],
 "metadata": {
  "kernelspec": {
   "display_name": "Python 3",
   "language": "python",
   "name": "python3"
  },
  "language_info": {
   "codemirror_mode": {
    "name": "ipython",
    "version": 3
   },
   "file_extension": ".py",
   "mimetype": "text/x-python",
   "name": "python",
   "nbconvert_exporter": "python",
   "pygments_lexer": "ipython3",
   "version": "3.8.3"
  }
 },
 "nbformat": 4,
 "nbformat_minor": 4
}
