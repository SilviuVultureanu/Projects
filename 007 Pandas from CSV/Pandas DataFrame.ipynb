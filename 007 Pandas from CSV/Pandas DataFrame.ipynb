{
 "cells": [
  {
   "cell_type": "code",
   "execution_count": 25,
   "metadata": {},
   "outputs": [
    {
     "name": "stdout",
     "output_type": "stream",
     "text": [
      "      month  clinic_east  clinic_north  clinic_south  clinic_west\n",
      "0   January          100           100            23          100\n",
      "1  February           51            45           145           45\n",
      "2     March           81            96            65           96\n",
      "3     April           80            80            54          180\n",
      "4       May           51            54            54          154\n",
      "5      June          112           109            79          129 \n",
      "\n",
      "      month  clinic_east  clinic_north  clinic_south  clinic_west\n",
      "0   January          100           100            23          100\n",
      "1  February           51            45           145           45\n",
      "2     March           81            96            65           96\n"
     ]
    }
   ],
   "source": [
    "import pandas as pd\n",
    "\n",
    "df = pd.DataFrame([\n",
    "  ['January', 100, 100, 23, 100],\n",
    "  ['February', 51, 45, 145, 45],\n",
    "  ['March', 81, 96, 65, 96],\n",
    "  ['April', 80, 80, 54, 180],\n",
    "  ['May', 51, 54, 54, 154],\n",
    "  ['June', 112, 109, 79, 129]],\n",
    "  columns=['month', 'clinic_east',\n",
    "           'clinic_north', 'clinic_south',\n",
    "           'clinic_west'])\n",
    "\n",
    "# in [1] df.set_index?\n",
    "df.set_index('clinic_west')\n",
    "print(df, '\\n')\n",
    "\n",
    "march = df.loc[:2]\n",
    "print(march)"
   ]
  },
  {
   "cell_type": "code",
   "execution_count": 24,
   "metadata": {},
   "outputs": [
    {
     "name": "stdout",
     "output_type": "stream",
     "text": [
      "['March', 81, 96, 65, 96]\n"
     ]
    }
   ],
   "source": [
    "march = df.iloc[2].tolist()\n",
    "print(march)"
   ]
  },
  {
   "cell_type": "code",
   "execution_count": 15,
   "metadata": {},
   "outputs": [
    {
     "name": "stdout",
     "output_type": "stream",
     "text": [
      "   month  clinic_east  clinic_north  clinic_south  clinic_west\n",
      "3  April           80            80            54          180\n",
      "4    May           51            54            54          154\n",
      "5   June          112           109            79          129\n",
      "<class 'pandas.core.frame.DataFrame'>\n"
     ]
    }
   ],
   "source": [
    "import pandas as pd\n",
    "\n",
    "df = pd.DataFrame([\n",
    "  ['January', 100, 100, 23, 100],\n",
    "  ['February', 51, 45, 145, 45],\n",
    "  ['March', 81, 96, 65, 96],\n",
    "  ['April', 80, 80, 54, 180],\n",
    "  ['May', 51, 54, 54, 154],\n",
    "  ['June', 112, 109, 79, 129]],\n",
    "  columns=['month', 'clinic_east',\n",
    "           'clinic_north', 'clinic_south',\n",
    "           'clinic_west']\n",
    ")\n",
    "\n",
    "april_may_june = df.iloc[3:6]\n",
    "print(april_may_june)\n",
    "print(type(april_may_june))"
   ]
  }
 ],
 "metadata": {
  "kernelspec": {
   "display_name": "Python 3",
   "language": "python",
   "name": "python3"
  },
  "language_info": {
   "codemirror_mode": {
    "name": "ipython",
    "version": 3
   },
   "file_extension": ".py",
   "mimetype": "text/x-python",
   "name": "python",
   "nbconvert_exporter": "python",
   "pygments_lexer": "ipython3",
   "version": "3.8.3"
  }
 },
 "nbformat": 4,
 "nbformat_minor": 4
}
